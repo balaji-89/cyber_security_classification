{
 "cells": [
  {
   "cell_type": "code",
   "execution_count": null,
   "metadata": {},
   "outputs": [],
   "source": [
    "train_dataset_path = \"C:\\Users\\Balaji_j\\Downloads\\GUIDE_Train.csv\\GUIDE_Train.csv\"\n",
    "test_dataset_path = \"C:\\Users\\Balaji_j\\Downloads\\GUIDE_Test.csv\\GUIDE_Test.csv\""
   ]
  },
  {
   "cell_type": "code",
   "execution_count": null,
   "metadata": {},
   "outputs": [],
   "source": []
  }
 ],
 "metadata": {
  "language_info": {
   "name": "python"
  }
 },
 "nbformat": 4,
 "nbformat_minor": 2
}
