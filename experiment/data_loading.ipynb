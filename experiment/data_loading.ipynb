{
 "cells": [
  {
   "cell_type": "code",
   "execution_count": 4,
   "metadata": {},
   "outputs": [],
   "source": [
    "import pandas as pd\n",
    "\n",
    "\n",
    "subset_df['month'] = pd.to_datetime(subset_df['Timestamp']).dt.month\n",
    "subset_df['year'] = pd.to_datetime(subset_df['Timestamp']).dt.year\n",
    "subset_df['day'] = pd.to_datetime(subset_df['Timestamp']).dt.day\n",
    "subset_df['date'] = pd.to_datetime(subset_df['Timestamp']).dt.date\n",
    "subset_df['hour'] = pd.to_datetime(subset_df['Timestamp']).dt.hour\n",
    "subset_df['minutes'] = pd.to_datetime(subset_df['Timestamp']).dt.minute\n",
    "subset_df['minutes'] = pd.to_datetime(subset_df['Timestamp']).dt.second\n",
    "\n"
   ]
  },
  {
   "cell_type": "code",
   "execution_count": 2,
   "metadata": {},
   "outputs": [],
   "source": [
    "train_dataset_path = \"../dataset/GUIDE_Train.csv\"\n",
    "test_dataset_path = \"../dataset/GUIDE_Test.csv\"\n",
    "train_subset_data = \"../dataset/train_subset.csv\""
   ]
  },
  {
   "cell_type": "code",
   "execution_count": 3,
   "metadata": {},
   "outputs": [
    {
     "name": "stderr",
     "output_type": "stream",
     "text": [
      "/tmp/ipykernel_6331/1225867206.py:1: DtypeWarning: Columns (35) have mixed types. Specify dtype option on import or set low_memory=False.\n",
      "  subset_df = pd.read_csv('../dataset/train_subset.csv')\n"
     ]
    }
   ],
   "source": [
    "subset_df = pd.read_csv('../dataset/train_subset.csv')"
   ]
  },
  {
   "cell_type": "code",
   "execution_count": 5,
   "metadata": {},
   "outputs": [
    {
     "data": {
      "text/plain": [
       "Id                         0\n",
       "OrgId                      0\n",
       "IncidentId                 0\n",
       "AlertId                    0\n",
       "Timestamp                  0\n",
       "DetectorId                 0\n",
       "AlertTitle                 0\n",
       "Category                   0\n",
       "MitreTechniques       575042\n",
       "IncidentGrade           5360\n",
       "ActionGrouped         994162\n",
       "ActionGranular        994162\n",
       "EntityType                 0\n",
       "EvidenceRole               0\n",
       "DeviceId                   0\n",
       "Sha256                     0\n",
       "IpAddress                  0\n",
       "Url                        0\n",
       "AccountSid                 0\n",
       "AccountUpn                 0\n",
       "AccountObjectId            0\n",
       "AccountName                0\n",
       "DeviceName                 0\n",
       "NetworkMessageId           0\n",
       "EmailClusterId        989708\n",
       "RegistryKey                0\n",
       "RegistryValueName          0\n",
       "RegistryValueData          0\n",
       "ApplicationId              0\n",
       "ApplicationName            0\n",
       "OAuthApplicationId         0\n",
       "ThreatFamily          992115\n",
       "FileName                   0\n",
       "FolderPath                 0\n",
       "ResourceIdName             0\n",
       "ResourceType          999241\n",
       "Roles                 976937\n",
       "OSFamily                   0\n",
       "OSVersion                  0\n",
       "AntispamDirection     981394\n",
       "SuspicionLevel        848086\n",
       "LastVerdict           764955\n",
       "CountryCode                0\n",
       "State                      0\n",
       "City                       0\n",
       "month                      0\n",
       "year                       0\n",
       "day                        0\n",
       "date                       0\n",
       "hour                       0\n",
       "minutes                    0\n",
       "dtype: int64"
      ]
     },
     "execution_count": 5,
     "metadata": {},
     "output_type": "execute_result"
    }
   ],
   "source": [
    "subset_df.isna().sum()"
   ]
  },
  {
   "cell_type": "code",
   "execution_count": 10,
   "metadata": {},
   "outputs": [
    {
     "data": {
      "text/plain": [
       "50.800000000000004"
      ]
     },
     "execution_count": 10,
     "metadata": {},
     "output_type": "execute_result"
    }
   ],
   "source": [
    "508*0.1 #DeviceId"
   ]
  },
  {
   "cell_type": "code",
   "execution_count": 113,
   "metadata": {},
   "outputs": [
    {
     "data": {
      "text/plain": [
       "5048.6759999999995"
      ]
     },
     "execution_count": 113,
     "metadata": {},
     "output_type": "execute_result"
    }
   ],
   "source": [
    "0.036*140241"
   ]
  },
  {
   "cell_type": "code",
   "execution_count": 8,
   "metadata": {},
   "outputs": [
    {
     "data": {
      "text/plain": [
       "IncidentGrade \n",
       "BenignPositive    3\n",
       "Name: count, dtype: int64"
      ]
     },
     "execution_count": 8,
     "metadata": {},
     "output_type": "execute_result"
    }
   ],
   "source": [
    "subset_df[subset_df['Id'] == 0][['IncidentGrade']].value_counts() "
   ]
  },
  {
   "cell_type": "code",
   "execution_count": 6,
   "metadata": {},
   "outputs": [
    {
     "data": {
      "text/plain": [
       "Id\n",
       "601295424398     3219\n",
       "609885356628     2176\n",
       "1666447311459    1242\n",
       "489626273554     1125\n",
       "987842483055     1113\n",
       "                 ... \n",
       "326417519506        1\n",
       "1047972022263       1\n",
       "249108107313        1\n",
       "231928236771        1\n",
       "893353197900        1\n",
       "Name: count, Length: 308432, dtype: int64"
      ]
     },
     "execution_count": 6,
     "metadata": {},
     "output_type": "execute_result"
    }
   ],
   "source": [
    "subset_df['Id'].value_counts() "
   ]
  },
  {
   "cell_type": "code",
   "execution_count": 77,
   "metadata": {},
   "outputs": [
    {
     "data": {
      "text/plain": [
       "385543"
      ]
     },
     "execution_count": 77,
     "metadata": {},
     "output_type": "execute_result"
    }
   ],
   "source": [
    "sum(subset_df.OrgId.value_counts()[subset_df.OrgId.value_counts() < 2500])"
   ]
  },
  {
   "cell_type": "code",
   "execution_count": 36,
   "metadata": {},
   "outputs": [
    {
     "data": {
      "text/plain": [
       "80"
      ]
     },
     "execution_count": 36,
     "metadata": {},
     "output_type": "execute_result"
    }
   ],
   "source": [
    "len(subset_df.OrgId.value_counts()[1:][subset_df.OrgId.value_counts() > 83])"
   ]
  },
  {
   "cell_type": "code",
   "execution_count": 106,
   "metadata": {},
   "outputs": [
    {
     "data": {
      "text/plain": [
       "DetectorId\n",
       "41      4904\n",
       "36      4544\n",
       "37      4460\n",
       "35      4188\n",
       "38      4023\n",
       "        ... \n",
       "3657       1\n",
       "4053       1\n",
       "5056       1\n",
       "7051       1\n",
       "6949       1\n",
       "Name: count, Length: 5608, dtype: int64"
      ]
     },
     "execution_count": 106,
     "metadata": {},
     "output_type": "execute_result"
    }
   ],
   "source": [
    "subset_df.DetectorId.value_counts()[subset_df.DetectorId.value_counts() < 5000]"
   ]
  },
  {
   "cell_type": "code",
   "execution_count": 101,
   "metadata": {},
   "outputs": [
    {
     "data": {
      "text/plain": [
       "IncidentGrade\n",
       "BenignPositive    39654\n",
       "TruePositive      28649\n",
       "FalsePositive     12434\n",
       "Name: count, dtype: int64"
      ]
     },
     "execution_count": 101,
     "metadata": {},
     "output_type": "execute_result"
    }
   ],
   "source": [
    "subset_df[subset_df['DetectorId'] == 1]['IncidentGrade'].value_counts()"
   ]
  },
  {
   "cell_type": "code",
   "execution_count": 56,
   "metadata": {},
   "outputs": [
    {
     "data": {
      "text/plain": [
       "0         98799\n",
       "1         98799\n",
       "2         98799\n",
       "3         98799\n",
       "4         98799\n",
       "          ...  \n",
       "999995    98799\n",
       "999996    98799\n",
       "999997    98799\n",
       "999998    98799\n",
       "999999    98799\n",
       "Name: DeviceId, Length: 1000000, dtype: int64"
      ]
     },
     "execution_count": 56,
     "metadata": {},
     "output_type": "execute_result"
    }
   ],
   "source": [
    "subset_df['DeviceId']"
   ]
  }
 ],
 "metadata": {
  "kernelspec": {
   "display_name": "base",
   "language": "python",
   "name": "python3"
  },
  "language_info": {
   "codemirror_mode": {
    "name": "ipython",
    "version": 3
   },
   "file_extension": ".py",
   "mimetype": "text/x-python",
   "name": "python",
   "nbconvert_exporter": "python",
   "pygments_lexer": "ipython3",
   "version": "3.12.7"
  }
 },
 "nbformat": 4,
 "nbformat_minor": 2
}
